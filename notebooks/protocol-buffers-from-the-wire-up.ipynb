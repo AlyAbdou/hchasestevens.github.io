{
 "cells": [
  {
   "cell_type": "code",
   "execution_count": 1,
   "metadata": {
    "slideshow": {
     "slide_type": "skip"
    }
   },
   "outputs": [],
   "source": [
    "import os\n",
    "import re\n",
    "import imp\n",
    "import binascii\n",
    "from tempfile import NamedTemporaryFile\n",
    "\n",
    "from IPython.core.magic import Magics, magics_class, cell_magic, line_magic\n",
    "from IPython.display import display, HTML\n",
    "\n",
    "@magics_class\n",
    "class ProtoMagics(Magics):\n",
    "    @cell_magic\n",
    "    def schema(self, line, cell):\n",
    "        module_name = line\n",
    "        temp_dir = os.path.abspath('tmp_proto')\n",
    "        fname = '{}/{}.proto'.format(temp_dir, module_name)\n",
    "        cmd = \"protoc -I={temp_dir} --python_out={temp_dir} {fname}\"\n",
    "        with open(fname, 'w') as f:\n",
    "            f.write('syntax = \"proto3\";\\n')\n",
    "            f.write('package {};\\n'.format(module_name))\n",
    "            f.write(cell)\n",
    "            f.write('\\n')\n",
    "        qualified_cmd = cmd.format(temp_dir=temp_dir, fname=fname)\n",
    "        res = self.shell.getoutput(qualified_cmd)\n",
    "        if res:\n",
    "            print(res)\n",
    "            raise Exception\n",
    "        compiled_fname = '{}/{}_pb2.py'.format(temp_dir, module_name)\n",
    "        globals()[module_name] = imp.load_source(module_name, compiled_fname)\n",
    "            \n",
    "    @cell_magic\n",
    "    def represent(self, line, cell):\n",
    "        serialized = eval(cell).SerializeToString().decode('latin-1')\n",
    "        if line == 'braille':\n",
    "            encodechar = (\n",
    "                u\"⠀⢀⠠⢠⠐⢐⠰⢰⠈⢈⠨⢨⠘⢘⠸⢸\" +\n",
    "                u\"⡀⣀⡠⣠⡐⣐⡰⣰⡈⣈⡨⣨⡘⣘⡸⣸\" +\n",
    "                u\"⠄⢄⠤⢤⠔⢔⠴⢴⠌⢌⠬⢬⠜⢜⠼⢼\" +\n",
    "                u\"⡄⣄⡤⣤⡔⣔⡴⣴⡌⣌⡬⣬⡜⣜⡼⣼\" +\n",
    "                u\"⠂⢂⠢⢢⠒⢒⠲⢲⠊⢊⠪⢪⠚⢚⠺⢺\" +\n",
    "                u\"⡂⣂⡢⣢⡒⣒⡲⣲⡊⣊⡪⣪⡚⣚⡺⣺\" +\n",
    "                u\"⠆⢆⠦⢦⠖⢖⠶⢶⠎⢎⠮⢮⠞⢞⠾⢾\" +\n",
    "                u\"⡆⣆⡦⣦⡖⣖⡶⣶⡎⣎⡮⣮⡞⣞⡾⣾\" +\n",
    "                u\"⠁⢁⠡⢡⠑⢑⠱⢱⠉⢉⠩⢩⠙⢙⠹⢹\" +\n",
    "                u\"⡁⣁⡡⣡⡑⣑⡱⣱⡉⣉⡩⣩⡙⣙⡹⣹\" +\n",
    "                u\"⠅⢅⠥⢥⠕⢕⠵⢵⠍⢍⠭⢭⠝⢝⠽⢽\" +\n",
    "                u\"⡅⣅⡥⣥⡕⣕⡵⣵⡍⣍⡭⣭⡝⣝⡽⣽\" +\n",
    "                u\"⠃⢃⠣⢣⠓⢓⠳⢳⠋⢋⠫⢫⠛⢛⠻⢻\" +\n",
    "                u\"⡃⣃⡣⣣⡓⣓⡳⣳⡋⣋⡫⣫⡛⣛⡻⣻\" +\n",
    "                u\"⠇⢇⠧⢧⠗⢗⠷⢷⠏⢏⠯⢯⠟⢟⠿⢿\" +\n",
    "                u\"⡇⣇⡧⣧⡗⣗⡷⣷⡏⣏⡯⣯⡟⣟⡿⣿\"\n",
    "            )\n",
    "            braille = u''.join(encodechar[ord(x)] for x in serialized)\n",
    "            print(braille)\n",
    "        elif line == 'binary':\n",
    "            binary = u' '.join(u'{:0>8b}'.format(ord(x)) for x in serialized)\n",
    "            print(binary)\n",
    "        elif line == 'hex':\n",
    "            v = [binascii.hexlify(x.encode('latin-1')).decode('latin-1') for x in serialized]\n",
    "            hexrepr = u' '.join(v)\n",
    "            print(hexrepr)\n",
    "        elif line == 'dec':\n",
    "            dec = u' '.join('{}'.format(ord(x)) for x in serialized)\n",
    "            print(dec)\n",
    "        else:\n",
    "            print(' '.join(repr(x)[1:-1] for x in serialized))\n",
    "        print(\"Length: {}\".format(len(serialized)))\n",
    "        \n",
    "get_ipython().register_magics(ProtoMagics)"
   ]
  },
  {
   "cell_type": "markdown",
   "metadata": {
    "slideshow": {
     "slide_type": "slide"
    }
   },
   "source": [
    "# Protocol buffers from the wire, up"
   ]
  },
  {
   "cell_type": "markdown",
   "metadata": {
    "slideshow": {
     "slide_type": "slide"
    }
   },
   "source": [
    "## Why not JSON?\n",
    "![json is bad](https://pbs.twimg.com/media/DN8NEOlX0AAhpV1.jpg:large)"
   ]
  },
  {
   "cell_type": "markdown",
   "metadata": {
    "slideshow": {
     "slide_type": "slide"
    }
   },
   "source": [
    "## Why not JSON?\n",
    "![json is really bad](https://pbs.twimg.com/media/DN8NEGlX0AABTwe.jpg:large)"
   ]
  },
  {
   "cell_type": "markdown",
   "metadata": {
    "slideshow": {
     "slide_type": "slide"
    }
   },
   "source": [
    "## Why not JSON?"
   ]
  },
  {
   "cell_type": "code",
   "execution_count": 22,
   "metadata": {
    "slideshow": {
     "slide_type": "-"
    }
   },
   "outputs": [
    {
     "data": {
      "text/plain": [
       "105"
      ]
     },
     "execution_count": 22,
     "metadata": {},
     "output_type": "execute_result"
    }
   ],
   "source": [
    "len(re.sub(r'\\s+', '', '''\n",
    "\n",
    "{\"value\": 123, \n",
    " \"produced\": {\n",
    "   \"time\": \"11:30\", \n",
    "   \"offset\": 0\n",
    " },\n",
    " \"people\": [\n",
    "   {\"first\": \"Alice\", \"last\": \"Smith\", \"status\": \"ACTIVE\"},\n",
    "   {\"first\": \"Bob\", \"last\": \"Johnson\", \"status\": \"INACTIVE\"}\n",
    " ],\n",
    " }\n",
    " \n",
    "'''))"
   ]
  },
  {
   "cell_type": "markdown",
   "metadata": {
    "slideshow": {
     "slide_type": "slide"
    }
   },
   "source": [
    "## Protobuf"
   ]
  },
  {
   "cell_type": "code",
   "execution_count": 3,
   "metadata": {
    "slideshow": {
     "slide_type": "-"
    }
   },
   "outputs": [],
   "source": [
    "%%schema foo\n",
    "message Produced {\n",
    "    string time = 1;\n",
    "    int32 offset = 2;\n",
    "}\n",
    "message Person {\n",
    "    enum Status {\n",
    "        ACTIVE = 0;\n",
    "        INACTIVE = 1;\n",
    "    }\n",
    "    string first = 1;\n",
    "    string last = 2;\n",
    "    Status status = 3;\n",
    "}\n",
    "message Payload {\n",
    "    uint32 value = 1;\n",
    "    Produced produced = 2;\n",
    "    repeated Person people = 3;\n",
    "}"
   ]
  },
  {
   "cell_type": "markdown",
   "metadata": {
    "slideshow": {
     "slide_type": "slide"
    }
   },
   "source": [
    "## Protobuf"
   ]
  },
  {
   "cell_type": "code",
   "execution_count": 27,
   "metadata": {
    "slideshow": {
     "slide_type": "-"
    }
   },
   "outputs": [
    {
     "name": "stdout",
     "output_type": "stream",
     "text": [
      "\\x08 { \\x12 \\x07 \\n \\x05 1 1 : 3 0 \\x1a \\x0e \\n \\x05 A l i c e \\x12 \\x05 S m i t h \\x1a \\x10 \\n \\x03 B o b \\x12 \\x07 J o h n s o n \\x18 \\x01\n",
      "Length: 45\n"
     ]
    }
   ],
   "source": [
    "%%represent \n",
    "foo.Payload(\n",
    "    value=123,\n",
    "    produced=foo.Produced(time=\"11:30\", offset=0),\n",
    "    people=[\n",
    "        foo.Person(first=\"Alice\", last=\"Smith\", status=foo.Person.ACTIVE),\n",
    "        foo.Person(first=\"Bob\", last=\"Johnson\", status=foo.Person.INACTIVE)\n",
    "    ]\n",
    ")"
   ]
  },
  {
   "cell_type": "markdown",
   "metadata": {
    "slideshow": {
     "slide_type": "slide"
    }
   },
   "source": [
    "## Protobuf"
   ]
  },
  {
   "cell_type": "code",
   "execution_count": 28,
   "metadata": {
    "slideshow": {
     "slide_type": "-"
    }
   },
   "outputs": [
    {
     "name": "stdout",
     "output_type": "stream",
     "text": [
      "00001000 01111011\n",
      "Length: 2\n"
     ]
    }
   ],
   "source": [
    "%%represent binary\n",
    "foo.Payload(value=123)"
   ]
  },
  {
   "cell_type": "code",
   "execution_count": 6,
   "metadata": {
    "slideshow": {
     "slide_type": "-"
    }
   },
   "outputs": [
    {
     "name": "stdout",
     "output_type": "stream",
     "text": [
      "00001010 00000001 01100001 00010010 00000010 01100010 01100011 00011000 00000001\n",
      "Length: 9\n"
     ]
    }
   ],
   "source": [
    "%%represent binary\n",
    "foo.Person(\n",
    "  first=\"a\",\n",
    "  last=\"bc\",\n",
    "  status=foo.Person.INACTIVE\n",
    ")"
   ]
  },
  {
   "cell_type": "code",
   "execution_count": 7,
   "metadata": {
    "slideshow": {
     "slide_type": "-"
    }
   },
   "outputs": [
    {
     "name": "stdout",
     "output_type": "stream",
     "text": [
      "\\x1a \\x03 \\x12 \\x01 x \\x1a \\x03 \\x12 \\x01 y\n",
      "Length: 10\n"
     ]
    }
   ],
   "source": [
    "%%represent \n",
    "foo.Payload(\n",
    "  people=[foo.Person(last='x'), foo.Person(last='y')]\n",
    ")"
   ]
  },
  {
   "cell_type": "markdown",
   "metadata": {
    "slideshow": {
     "slide_type": "slide"
    }
   },
   "source": [
    "## Protobuf pitfalls"
   ]
  },
  {
   "cell_type": "code",
   "execution_count": 8,
   "metadata": {
    "slideshow": {
     "slide_type": "-"
    }
   },
   "outputs": [
    {
     "data": {
      "text/plain": [
       "True"
      ]
     },
     "execution_count": 8,
     "metadata": {},
     "output_type": "execute_result"
    }
   ],
   "source": [
    "foo.Person.FromString(b'').status is foo.Person.ACTIVE"
   ]
  },
  {
   "cell_type": "markdown",
   "metadata": {
    "slideshow": {
     "slide_type": "slide"
    }
   },
   "source": [
    "## Protobuf pitfalls"
   ]
  },
  {
   "cell_type": "code",
   "execution_count": 9,
   "metadata": {
    "slideshow": {
     "slide_type": "-"
    }
   },
   "outputs": [],
   "source": [
    "%%schema foo2\n",
    "message Produced {\n",
    "    string time = 1;\n",
    "    int32 offset = 2;\n",
    "}\n",
    "message Person {\n",
    "    enum Status {\n",
    "        ACTIVE = 0;\n",
    "        INACTIVE = 1;\n",
    "    }\n",
    "    string first = 1;\n",
    "    string last = 2;\n",
    "    Status status = 3;\n",
    "}\n",
    "message Payload {\n",
    "    uint32 value = 1;\n",
    "    Produced produced = 2;\n",
    "    repeated Person people = 3;\n",
    "}"
   ]
  },
  {
   "cell_type": "markdown",
   "metadata": {
    "slideshow": {
     "slide_type": "slide"
    }
   },
   "source": [
    "## Protobuf pitfalls"
   ]
  },
  {
   "cell_type": "code",
   "execution_count": 10,
   "metadata": {},
   "outputs": [],
   "source": [
    "%%schema bar1\n",
    "message Bar {\n",
    "  int32 val = 1;\n",
    "}"
   ]
  },
  {
   "cell_type": "code",
   "execution_count": 11,
   "metadata": {},
   "outputs": [],
   "source": [
    "%%schema bar2\n",
    "message Bar {\n",
    "  string val = 1;\n",
    "}"
   ]
  },
  {
   "cell_type": "code",
   "execution_count": 12,
   "metadata": {},
   "outputs": [
    {
     "data": {
      "text/plain": []
     },
     "execution_count": 12,
     "metadata": {},
     "output_type": "execute_result"
    }
   ],
   "source": [
    "bar2.Bar.FromString(\n",
    "  bar1.Bar(val=32).SerializeToString()\n",
    ")"
   ]
  },
  {
   "cell_type": "code",
   "execution_count": 13,
   "metadata": {},
   "outputs": [
    {
     "data": {
      "text/plain": [
       "''"
      ]
     },
     "execution_count": 13,
     "metadata": {},
     "output_type": "execute_result"
    }
   ],
   "source": [
    "_.val"
   ]
  },
  {
   "cell_type": "code",
   "execution_count": 26,
   "metadata": {},
   "outputs": [
    {
     "name": "stdout",
     "output_type": "stream",
     "text": [
      "00001010 00000010 00110011 00110010\n",
      "Length: 4\n"
     ]
    }
   ],
   "source": [
    "%%represent binary\n",
    "bar2.Bar(val=\"32\")"
   ]
  },
  {
   "cell_type": "markdown",
   "metadata": {
    "slideshow": {
     "slide_type": "slide"
    }
   },
   "source": [
    "## Protobuf pitfalls"
   ]
  },
  {
   "cell_type": "code",
   "execution_count": 15,
   "metadata": {},
   "outputs": [],
   "source": [
    "%%schema sizes1\n",
    "message Shirt {\n",
    "  enum Size {\n",
    "    SMALL = 0;\n",
    "    LARGE = 1;\n",
    "  }\n",
    "  Size size = 1;\n",
    "}"
   ]
  },
  {
   "cell_type": "code",
   "execution_count": 16,
   "metadata": {},
   "outputs": [],
   "source": [
    "%%schema sizes2\n",
    "message Shirt {\n",
    "  enum Size {\n",
    "    SMALL = 0;\n",
    "    LARGE = 1;\n",
    "    MEDIUM = 2;\n",
    "  }\n",
    "  Size size = 1;\n",
    "}"
   ]
  },
  {
   "cell_type": "code",
   "execution_count": 17,
   "metadata": {},
   "outputs": [
    {
     "data": {
      "text/plain": [
       "2"
      ]
     },
     "execution_count": 17,
     "metadata": {},
     "output_type": "execute_result"
    }
   ],
   "source": [
    "sizes1.Shirt.FromString(\n",
    "  sizes2.Shirt(size=sizes2.Shirt.MEDIUM).SerializeToString()\n",
    ").size"
   ]
  },
  {
   "cell_type": "code",
   "execution_count": 18,
   "metadata": {},
   "outputs": [
    {
     "ename": "ValueError",
     "evalue": "Enum Size has no name defined for value 2",
     "output_type": "error",
     "traceback": [
      "\u001b[0;31m\u001b[0m",
      "\u001b[0;31mValueError\u001b[0mTraceback (most recent call last)",
      "\u001b[0;32m<ipython-input-18-efa60ccb45b6>\u001b[0m in \u001b[0;36m<module>\u001b[0;34m()\u001b[0m\n\u001b[0;32m----> 1\u001b[0;31m \u001b[0msizes1\u001b[0m\u001b[0;34m.\u001b[0m\u001b[0mShirt\u001b[0m\u001b[0;34m.\u001b[0m\u001b[0mSize\u001b[0m\u001b[0;34m.\u001b[0m\u001b[0mName\u001b[0m\u001b[0;34m(\u001b[0m\u001b[0m_\u001b[0m\u001b[0;34m)\u001b[0m\u001b[0;34m\u001b[0m\u001b[0m\n\u001b[0m",
      "\u001b[0;32m/usr/local/lib/python3.4/dist-packages/google/protobuf/internal/enum_type_wrapper.py\u001b[0m in \u001b[0;36mName\u001b[0;34m(self, number)\u001b[0m\n\u001b[1;32m     54\u001b[0m       \u001b[0;32mreturn\u001b[0m \u001b[0mself\u001b[0m\u001b[0;34m.\u001b[0m\u001b[0m_enum_type\u001b[0m\u001b[0;34m.\u001b[0m\u001b[0mvalues_by_number\u001b[0m\u001b[0;34m[\u001b[0m\u001b[0mnumber\u001b[0m\u001b[0;34m]\u001b[0m\u001b[0;34m.\u001b[0m\u001b[0mname\u001b[0m\u001b[0;34m\u001b[0m\u001b[0m\n\u001b[1;32m     55\u001b[0m     raise ValueError('Enum %s has no name defined for value %d' % (\n\u001b[0;32m---> 56\u001b[0;31m         self._enum_type.name, number))\n\u001b[0m\u001b[1;32m     57\u001b[0m \u001b[0;34m\u001b[0m\u001b[0m\n\u001b[1;32m     58\u001b[0m   \u001b[0;32mdef\u001b[0m \u001b[0mValue\u001b[0m\u001b[0;34m(\u001b[0m\u001b[0mself\u001b[0m\u001b[0;34m,\u001b[0m \u001b[0mname\u001b[0m\u001b[0;34m)\u001b[0m\u001b[0;34m:\u001b[0m\u001b[0;34m\u001b[0m\u001b[0m\n",
      "\u001b[0;31mValueError\u001b[0m: Enum Size has no name defined for value 2"
     ]
    }
   ],
   "source": [
    "sizes1.Shirt.Size.Name(_)"
   ]
  }
 ],
 "metadata": {
  "celltoolbar": "Slideshow",
  "kernelspec": {
   "display_name": "Python 3",
   "language": "python",
   "name": "python3"
  },
  "language_info": {
   "codemirror_mode": {
    "name": "ipython",
    "version": 3
   },
   "file_extension": ".py",
   "mimetype": "text/x-python",
   "name": "python",
   "nbconvert_exporter": "python",
   "pygments_lexer": "ipython3",
   "version": "3.4.2"
  }
 },
 "nbformat": 4,
 "nbformat_minor": 2
}
